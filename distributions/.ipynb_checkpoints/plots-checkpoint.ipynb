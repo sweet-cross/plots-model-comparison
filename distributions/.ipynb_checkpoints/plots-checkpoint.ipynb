{
 "cells": [
  {
   "cell_type": "code",
   "execution_count": 1,
   "id": "b69bacc5",
   "metadata": {},
   "outputs": [],
   "source": [
    "# Import all the libraries \n",
    "import pandas as pd\n",
    "import numpy as np\n",
    "import matplotlib.pyplot as plt\n",
    "import matplotlib.ticker as ticker\n",
    "from functools import reduce      \n",
    "import numpy as np\n",
    "import seaborn as sb\n",
    "from scipy import stats\n"
   ]
  },
  {
   "cell_type": "code",
   "execution_count": null,
   "id": "9cc9f770",
   "metadata": {},
   "outputs": [],
   "source": [
    "class Plots:\n",
    "\t\n",
    "\tdef __init__(self, data_list):\n",
    "\t\n",
    "\t\t\"\"\" \n",
    "\t\tGeneric distribution class for calculating and \n",
    "\t\tvisualizing a probability distribution.\n",
    "\t\n",
    "\t\tAttributes:\n",
    "\t\t\tdata_list (list of data) a list of models data files\n",
    "\t\t\n",
    "\t\t\"\"\"\n",
    "\t\t\n",
    "\t\tself.data = []\n",
    "\n",
    "\n",
    "\tdef read_data_file(self, file_name):\n",
    "\t\n",
    "\t\t\"\"\"\n",
    "\t\tFunction to read in data from a txt file. The txt file should have\n",
    "\t\tone number (float) per line. The numbers are stored in the data attribute.\n",
    "\t\t\t\t\n",
    "\t\tArgs:\n",
    "\t\t\tfile_name (string): name of a file to read from\n",
    "\t\t\n",
    "\t\tReturns:\n",
    "\t\t\tNone\n",
    "\t\t\n",
    "\t\t\"\"\"\n",
    "\t\t\t\n",
    "\t\twith open(file_name) as file:\n",
    "\t\t\tdata_list = []\n",
    "\t\t\tline = file.readline()\n",
    "\t\t\twhile line:\n",
    "\t\t\t\tdata_list.append(int(line))\n",
    "\t\t\t\tline = file.readline()\n",
    "\t\tfile.close()\n",
    "\t\n",
    "\t\tself.data = data_list"
   ]
  }
 ],
 "metadata": {
  "kernelspec": {
   "display_name": "Python 3",
   "language": "python",
   "name": "python3"
  },
  "language_info": {
   "codemirror_mode": {
    "name": "ipython",
    "version": 3
   },
   "file_extension": ".py",
   "mimetype": "text/x-python",
   "name": "python",
   "nbconvert_exporter": "python",
   "pygments_lexer": "ipython3",
   "version": "3.8.8"
  }
 },
 "nbformat": 4,
 "nbformat_minor": 5
}
